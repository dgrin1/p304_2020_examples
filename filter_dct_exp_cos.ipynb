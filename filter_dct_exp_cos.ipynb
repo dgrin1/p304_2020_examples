{
 "cells": [
  {
   "cell_type": "code",
   "execution_count": null,
   "id": "022d13a7",
   "metadata": {},
   "outputs": [],
   "source": [
    "import numpy as np\n",
    ">>> from scipy.fftpack import dct, idct\n",
    ">>> import matplotlib.pyplot as plt\n",
    ">>> N = 100\n",
    ">>> t = np.linspace(0,20,N)\n",
    ">>> x = np.exp(-t/3)*np.cos(2*t)\n",
    ">>> y = dct(x, norm='ortho')\n",
    ">>> window = np.zeros(N)\n",
    ">>> window[0:15] = 1\n",
    ">>> yr = idct(y*window, norm='ortho')\n",
    ">>> sum(abs(x-yr)**2) / sum(abs(x)**2)\n",
    "0.0010901402257\n",
    ">>> plt.plot(t, x, '-bx')\n",
    ">>> plt.plot(t, yr, 'ro')\n",
    ">>> window = np.zeros(N)\n",
    ">>> window[:80] = 1\n",
    ">>> yr = idct(y*window, norm='ortho')\n",
    ">>> sum(abs(x-yr)**2) / sum(abs(x)**2)\n",
    "0.0718818065008\n",
    ">>> plt.plot(t, yr, 'g+')\n",
    ">>> plt.legend(['x', '$x_{15}$', '$x_{80}$'])\n",
    ">>> plt.grid()\n",
    ">>> plt.show()\n",
    "plt.plot(abs(x-yr)/abs(yr))\n",
    "plt.xscale('log')\n",
    "plt.yscale('log')"
   ]
  },
  {
   "cell_type": "code",
   "execution_count": null,
   "id": "05abb8a2",
   "metadata": {},
   "outputs": [],
   "source": []
  },
  {
   "cell_type": "code",
   "execution_count": null,
   "id": "d2dfdd07",
   "metadata": {},
   "outputs": [],
   "source": []
  },
  {
   "cell_type": "code",
   "execution_count": null,
   "id": "6bed7f5a",
   "metadata": {},
   "outputs": [],
   "source": []
  },
  {
   "cell_type": "code",
   "execution_count": null,
   "id": "dd41b965",
   "metadata": {},
   "outputs": [],
   "source": []
  }
 ],
 "metadata": {
  "kernelspec": {
   "display_name": "Python 3",
   "language": "python",
   "name": "python3"
  },
  "language_info": {
   "codemirror_mode": {
    "name": "ipython",
    "version": 3
   },
   "file_extension": ".py",
   "mimetype": "text/x-python",
   "name": "python",
   "nbconvert_exporter": "python",
   "pygments_lexer": "ipython3",
   "version": "3.8.5"
  }
 },
 "nbformat": 4,
 "nbformat_minor": 5
}
